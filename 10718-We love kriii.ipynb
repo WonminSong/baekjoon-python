{
  "nbformat": 4,
  "nbformat_minor": 0,
  "metadata": {
    "colab": {
      "name": "10718-We love kriii",
      "provenance": [],
      "authorship_tag": "ABX9TyNI7OXsRLpp3lrUTp5Nk208"
    },
    "kernelspec": {
      "name": "python3",
      "display_name": "Python 3"
    }
  },
  "cells": [
    {
      "cell_type": "code",
      "metadata": {
        "id": "Q4fPRLIGPRPk",
        "colab_type": "code",
        "colab": {
          "base_uri": "https://localhost:8080/",
          "height": 52
        },
        "outputId": "3e6b82a1-f681-4a22-f88a-25f6caecfd71"
      },
      "source": [
        "print(\"강한친구 대한육군\\n강한친구 대한육군\")"
      ],
      "execution_count": null,
      "outputs": [
        {
          "output_type": "stream",
          "text": [
            "강한친구 대한육군\n",
            "강한친구 대한육군\n"
          ],
          "name": "stdout"
        }
      ]
    }
  ]
}