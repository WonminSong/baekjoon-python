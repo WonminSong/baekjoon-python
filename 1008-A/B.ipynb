{
  "nbformat": 4,
  "nbformat_minor": 0,
  "metadata": {
    "colab": {
      "name": "1008-A/B",
      "provenance": [],
      "authorship_tag": "ABX9TyN1VavUjR4gmqGgHa94IRuA"
    },
    "kernelspec": {
      "name": "python3",
      "display_name": "Python 3"
    }
  },
  "cells": [
    {
      "cell_type": "code",
      "metadata": {
        "id": "7zi3tgtWupBb",
        "colab_type": "code",
        "colab": {
          "base_uri": "https://localhost:8080/",
          "height": 34
        },
        "outputId": "d6f5ea0a-fb09-462e-9dd0-0ad0fd01fdb2"
      },
      "source": [
        "a,b=input().split()"
      ],
      "execution_count": 2,
      "outputs": [
        {
          "output_type": "stream",
          "text": [
            "3 5\n"
          ],
          "name": "stdout"
        }
      ]
    },
    {
      "cell_type": "code",
      "metadata": {
        "id": "VYa-cHjyu_Hi",
        "colab_type": "code",
        "colab": {
          "base_uri": "https://localhost:8080/",
          "height": 34
        },
        "outputId": "a584a3f6-3242-44cd-a1e3-b99840329fe1"
      },
      "source": [
        "print(int(a)/int(b))"
      ],
      "execution_count": 5,
      "outputs": [
        {
          "output_type": "stream",
          "text": [
            "0.6\n"
          ],
          "name": "stdout"
        }
      ]
    }
  ]
}